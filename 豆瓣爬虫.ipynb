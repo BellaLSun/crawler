{
 "cells": [
  {
   "cell_type": "markdown",
   "metadata": {},
   "source": [
    "# 豆瓣爬虫"
   ]
  },
  {
   "cell_type": "code",
   "execution_count": 48,
   "metadata": {
    "ExecuteTime": {
     "end_time": "2020-07-24T16:38:15.924032Z",
     "start_time": "2020-07-24T16:38:15.918878Z"
    }
   },
   "outputs": [],
   "source": [
    "import requests\n",
    "from bs4 import BeautifulSoup\n",
    "import pandas as pd"
   ]
  },
  {
   "cell_type": "code",
   "execution_count": 5,
   "metadata": {
    "ExecuteTime": {
     "end_time": "2020-07-24T16:38:16.301586Z",
     "start_time": "2020-07-24T16:38:16.297314Z"
    }
   },
   "outputs": [],
   "source": [
    "headers = {'User-Agent':\"Mozilla/5.0 (Windows NT 6.1; WOW64) AppleWebKit/537.1 (KHTML, like Gecko) Chrome/22.0.1207.1 Safari/537.1\"}\n",
    "# UTF-8 is backwards compatible with ASCII. UTF-8 is the preferred encoding for e-mail and web pages\n",
    "# res.encoding = 'utf-8'"
   ]
  },
  {
   "cell_type": "code",
   "execution_count": 6,
   "metadata": {
    "ExecuteTime": {
     "end_time": "2020-07-24T16:38:21.714174Z",
     "start_time": "2020-07-24T16:38:16.799662Z"
    }
   },
   "outputs": [
    {
     "name": "stdout",
     "output_type": "stream",
     "text": [
      "Pls input website address that you want to fetchhttps://movie.douban.com/subject/34841067/\n",
      "Pls input the file name that you want to save totest\n"
     ]
    }
   ],
   "source": [
    "movie = input('Pls input website address that you want to fetch')\n",
    "table = input('Pls input the file name that you want to save to')\n",
    "path = './'+table+'.txt'\n",
    "file = open(path,'w')"
   ]
  },
  {
   "cell_type": "markdown",
   "metadata": {},
   "source": [
    "## 写入txt文件"
   ]
  },
  {
   "cell_type": "code",
   "execution_count": 9,
   "metadata": {
    "ExecuteTime": {
     "end_time": "2020-07-24T17:16:26.432125Z",
     "start_time": "2020-07-24T17:16:26.415197Z"
    }
   },
   "outputs": [],
   "source": [
    "# 写入txt文件\n",
    "def getTxtFile(url):\n",
    "    res = requests.get(url,headers=headers)\n",
    "    soup = BeautifulSoup(res.text,'html.parser')\n",
    "    \n",
    "    #comments = soup.findALL('div', class_='comment-item')\n",
    "    comments = soup.findAll('div', class_='comment-item')\n",
    "    for comment in comments:\n",
    "        # 三元表达式\n",
    "        username = comment.find('a')['title'] and comment.find('a')['title'] or ''\n",
    "        # rating = comment.find('span',{'class':'rating'})['title']\n",
    "        span = comment.find('span',class_='rating')\n",
    "        # 有一页的span为空，会报错\n",
    "        if span == None:\n",
    "            continue\n",
    "        rating = comment.find('span',class_='rating')['title'] or ''\n",
    "        # s.strip(x):删除s字符串中开头、结尾处，位于x删除序列的字符\n",
    "        # time = comment.find('span',class_='comment-time').text.split()\n",
    "        # split是分割函数，将字符串分割成“字符”，保存在一个列表中。默认不带参数为空格分割\n",
    "        time = comment.find('span',class_='comment-time')['title'].split()[0] and comment.find('span',class_='comment-time')['title'].split()[0] or ''\n",
    "        content = comment.find('span',class_='short').text and comment.find('span',class_='short').text or ''\n",
    "        vote = comment.find('span',class_='votes').text and comment.find('span',class_='votes').text or ''\n",
    "        data = username + ';' + rating + ';' + time + ';' + content + ';' + vote + '\\n'\n",
    "        try:\n",
    "            file.write(data)\n",
    "        except Exception:\n",
    "            None"
   ]
  },
  {
   "cell_type": "code",
   "execution_count": null,
   "metadata": {},
   "outputs": [],
   "source": [
    "for i in range(10):\n",
    "    num = i*20\n",
    "    # https://movie.douban.com/subject/27092785/\n",
    "    Url = movie + '/comments?start='+str(num)+'&limit=20&sort=new_score&status=P'\n",
    "    print(Url)\n",
    "    getTxtFile(Url)\n",
    "\n",
    "file.close()\n",
    "print('The data has been fetched.')"
   ]
  },
  {
   "cell_type": "markdown",
   "metadata": {},
   "source": [
    "## 写入dataframe"
   ]
  },
  {
   "cell_type": "code",
   "execution_count": 55,
   "metadata": {},
   "outputs": [],
   "source": [
    "# 写入dataframe\n",
    "username_list = []\n",
    "rating_list = []\n",
    "time_list = []\n",
    "content_list = []\n",
    "vote_list = []\n",
    "def getDataFrame(url):\n",
    "    res = requests.get(url,headers=headers)\n",
    "    soup = BeautifulSoup(res.text,'html.parser')\n",
    "    comments = soup.findAll('div', class_='comment-item')\n",
    "    for comment in comments:\n",
    "        try:\n",
    "            # 三元表达式的语法糖：expression?result1:result2\n",
    "            username = comment.find('a')['title'] and comment.find('a')['title'] or ''\n",
    "            # rating = comment.find('span',{'class':'rating'})['title']\n",
    "            span = comment.find('span',class_='rating') and comment.find('span',class_='rating') or ''\n",
    "    #         if span == None:\n",
    "    #             continue\n",
    "            rating = comment.find('span',class_='rating')['title'] and comment.find('span',class_='rating')['title'] or ''\n",
    "            time = comment.find('span',class_='comment-time')['title'].split()[0] and comment.find('span',class_='comment-time')['title'].split()[0] or ''\n",
    "            content = comment.find('span',class_='short').text and comment.find('span',class_='short').text or ''\n",
    "            vote = comment.find('span',class_='votes').text and comment.find('span',class_='votes').text or ''\n",
    "            #print(username,rating,time,content,vote)\n",
    "            username_list.append(username)\n",
    "            rating_list.append(rating)\n",
    "            time_list.append(time)\n",
    "            content_list.append(content)\n",
    "            vote_list.append(vote)\n",
    "        except Exception:\n",
    "            continue"
   ]
  },
  {
   "cell_type": "code",
   "execution_count": 56,
   "metadata": {},
   "outputs": [],
   "source": [
    "username_list = []\n",
    "span_list = []\n",
    "rating_list = []\n",
    "time_list = []\n",
    "content_list = []\n",
    "vote_list = []\n",
    "for i in range(1,11,1):\n",
    "    num = i*20\n",
    "    # https://movie.douban.com/subject/27092785/\n",
    "    Url = movie + '/comments?start='+str(num)+'&limit=20&sort=new_score&status=P'\n",
    "    getDataFrame(Url)"
   ]
  },
  {
   "cell_type": "code",
   "execution_count": 54,
   "metadata": {
    "ExecuteTime": {
     "end_time": "2020-07-24T17:16:31.837442Z",
     "start_time": "2020-07-24T17:16:27.050331Z"
    }
   },
   "outputs": [
    {
     "data": {
      "text/html": [
       "<div>\n",
       "<style scoped>\n",
       "    .dataframe tbody tr th:only-of-type {\n",
       "        vertical-align: middle;\n",
       "    }\n",
       "\n",
       "    .dataframe tbody tr th {\n",
       "        vertical-align: top;\n",
       "    }\n",
       "\n",
       "    .dataframe thead th {\n",
       "        text-align: right;\n",
       "    }\n",
       "</style>\n",
       "<table border=\"1\" class=\"dataframe\">\n",
       "  <thead>\n",
       "    <tr style=\"text-align: right;\">\n",
       "      <th></th>\n",
       "      <th>username</th>\n",
       "      <th>rating</th>\n",
       "      <th>time</th>\n",
       "      <th>content</th>\n",
       "      <th>vote</th>\n",
       "    </tr>\n",
       "  </thead>\n",
       "  <tbody>\n",
       "    <tr>\n",
       "      <th>0</th>\n",
       "      <td>北投少年他</td>\n",
       "      <td>较差</td>\n",
       "      <td>2021-02-12</td>\n",
       "      <td>把二十多分钟的小品拉长到两个小时，没有好导演和好剧本还是省省吧。</td>\n",
       "      <td>1390</td>\n",
       "    </tr>\n",
       "    <tr>\n",
       "      <th>1</th>\n",
       "      <td>想睡觉</td>\n",
       "      <td>推荐</td>\n",
       "      <td>2021-02-13</td>\n",
       "      <td>你以为你已经很爱很爱妈妈了，但妈妈远比你想象中更爱更爱更爱你</td>\n",
       "      <td>2093</td>\n",
       "    </tr>\n",
       "    <tr>\n",
       "      <th>2</th>\n",
       "      <td>蜜汁</td>\n",
       "      <td>力荐</td>\n",
       "      <td>2021-02-12</td>\n",
       "      <td>意识到妈妈什么都知道的时候，我哭到抽搐。贾玲太有才了。在读你和我时就在想，逝去的父母是靠儿女...</td>\n",
       "      <td>5049</td>\n",
       "    </tr>\n",
       "    <tr>\n",
       "      <th>3</th>\n",
       "      <td>豆川</td>\n",
       "      <td>还行</td>\n",
       "      <td>2021-02-13</td>\n",
       "      <td>前一个小时强行塞包袱，后面干嚎占二十分钟。。。</td>\n",
       "      <td>1053</td>\n",
       "    </tr>\n",
       "    <tr>\n",
       "      <th>4</th>\n",
       "      <td>私享史</td>\n",
       "      <td>还行</td>\n",
       "      <td>2021-02-12</td>\n",
       "      <td>7分。豆瓣8.2分我是真觉得过分了，就电影论电影的话，贾玲这部作品最大的问题在于它不太像电影...</td>\n",
       "      <td>818</td>\n",
       "    </tr>\n",
       "  </tbody>\n",
       "</table>\n",
       "</div>"
      ],
      "text/plain": [
       "  username rating        time  \\\n",
       "0    北投少年他     较差  2021-02-12   \n",
       "1      想睡觉     推荐  2021-02-13   \n",
       "2       蜜汁     力荐  2021-02-12   \n",
       "3       豆川     还行  2021-02-13   \n",
       "4      私享史     还行  2021-02-12   \n",
       "\n",
       "                                             content  vote  \n",
       "0                   把二十多分钟的小品拉长到两个小时，没有好导演和好剧本还是省省吧。  1390  \n",
       "1                     你以为你已经很爱很爱妈妈了，但妈妈远比你想象中更爱更爱更爱你  2093  \n",
       "2  意识到妈妈什么都知道的时候，我哭到抽搐。贾玲太有才了。在读你和我时就在想，逝去的父母是靠儿女...  5049  \n",
       "3                            前一个小时强行塞包袱，后面干嚎占二十分钟。。。  1053  \n",
       "4  7分。豆瓣8.2分我是真觉得过分了，就电影论电影的话，贾玲这部作品最大的问题在于它不太像电影...   818  "
      ]
     },
     "execution_count": 54,
     "metadata": {},
     "output_type": "execute_result"
    }
   ],
   "source": [
    "data = pd.DataFrame({'username':username_list,'rating':rating_list,'time':time_list,'content':content_list,'vote':vote_list})\n",
    "data.head()"
   ]
  },
  {
   "cell_type": "markdown",
   "metadata": {},
   "source": [
    "# 可视化分析"
   ]
  },
  {
   "cell_type": "code",
   "execution_count": null,
   "metadata": {},
   "outputs": [],
   "source": []
  }
 ],
 "metadata": {
  "hide_input": false,
  "kernelspec": {
   "display_name": "Python 3",
   "language": "python",
   "name": "python3"
  },
  "language_info": {
   "codemirror_mode": {
    "name": "ipython",
    "version": 3
   },
   "file_extension": ".py",
   "mimetype": "text/x-python",
   "name": "python",
   "nbconvert_exporter": "python",
   "pygments_lexer": "ipython3",
   "version": "3.7.4"
  },
  "toc": {
   "base_numbering": 1,
   "nav_menu": {},
   "number_sections": true,
   "sideBar": true,
   "skip_h1_title": false,
   "title_cell": "Table of Contents",
   "title_sidebar": "Contents",
   "toc_cell": false,
   "toc_position": {
    "height": "calc(100% - 180px)",
    "left": "10px",
    "top": "150px",
    "width": "257px"
   },
   "toc_section_display": true,
   "toc_window_display": true
  }
 },
 "nbformat": 4,
 "nbformat_minor": 2
}
