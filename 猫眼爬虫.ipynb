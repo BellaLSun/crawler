{
 "cells": [
  {
   "cell_type": "code",
   "execution_count": 41,
   "metadata": {
    "ExecuteTime": {
     "end_time": "2019-02-24T04:03:55.873415Z",
     "start_time": "2019-02-24T04:03:55.863204Z"
    }
   },
   "outputs": [],
   "source": [
    "#coding:utf-8\n",
    "import requests\n",
    "import json\n",
    "import time\n",
    "import random\n",
    "import io\n",
    "import pandas as pd"
   ]
  },
  {
   "cell_type": "markdown",
   "metadata": {},
   "source": [
    "# 爬取数据"
   ]
  },
  {
   "cell_type": "code",
   "execution_count": 55,
   "metadata": {
    "ExecuteTime": {
     "end_time": "2019-02-24T04:24:20.992336Z",
     "start_time": "2019-02-24T04:24:20.985922Z"
    }
   },
   "outputs": [],
   "source": [
    "username = []\n",
    "date = []\n",
    "city = []\n",
    "score = []\n",
    "comment = []\n",
    "def getContent(url):\n",
    "    headers = {\n",
    "'User-Agent':'Mozilla/5.0 (Windows NT 6.1; Win64; x64) AppleWebKit/537.36 (KHTML, like Gecko) Chrome/64.0.3282.140 Safari/537.36'\n",
    "}\n",
    "    response = requests.get(url,headers = headers)\n",
    "    response = response.text\n",
    "    data = json.loads(response)\n",
    "    data = data['cmts']\n",
    "    for item in data:\n",
    "        try:\n",
    "            username.append(item['nick'])\n",
    "            date.append(item['startTime'].split()[0])\n",
    "            city.append(item['cityName'])\n",
    "            score.append(item['score'])\n",
    "            comment.append(item['content'])\n",
    "            #print(item['nick'],item['startTime'].split()[0],item['cityName'],item['score'],item['content'])\n",
    "        except Exception:\n",
    "            continue"
   ]
  },
  {
   "cell_type": "code",
   "execution_count": 57,
   "metadata": {},
   "outputs": [],
   "source": [
    "getContent('https://m.maoyan.com/mmdb/comments/movie/1299372.json?_v_=yes&offset=5')"
   ]
  },
  {
   "cell_type": "markdown",
   "metadata": {},
   "source": [
    "e.g.李焕英  https://m.maoyan.com/mmdb/comments/movie/1299372.json?_v_=yes&offset=1"
   ]
  },
  {
   "cell_type": "code",
   "execution_count": 59,
   "metadata": {},
   "outputs": [],
   "source": [
    "# #保存数据到dataframe\n",
    "username = []\n",
    "date = []\n",
    "city = []\n",
    "score = []\n",
    "comment = []\n",
    "def save_to_dataframe(pages,movie_number):\n",
    "    for i in range(1,pages,1):\n",
    "        url = 'http://m.maoyan.com/mmdb/comments/movie/'+movie_number+'.json?_v_=yes&offset=' + str(i)\n",
    "        getContent(url)\n",
    "        "
   ]
  },
  {
   "cell_type": "code",
   "execution_count": 60,
   "metadata": {},
   "outputs": [
    {
     "data": {
      "text/html": [
       "<div>\n",
       "<style scoped>\n",
       "    .dataframe tbody tr th:only-of-type {\n",
       "        vertical-align: middle;\n",
       "    }\n",
       "\n",
       "    .dataframe tbody tr th {\n",
       "        vertical-align: top;\n",
       "    }\n",
       "\n",
       "    .dataframe thead th {\n",
       "        text-align: right;\n",
       "    }\n",
       "</style>\n",
       "<table border=\"1\" class=\"dataframe\">\n",
       "  <thead>\n",
       "    <tr style=\"text-align: right;\">\n",
       "      <th></th>\n",
       "      <th>username</th>\n",
       "      <th>date</th>\n",
       "      <th>city</th>\n",
       "      <th>score</th>\n",
       "      <th>comment</th>\n",
       "    </tr>\n",
       "  </thead>\n",
       "  <tbody>\n",
       "    <tr>\n",
       "      <th>0</th>\n",
       "      <td>易烊千玺.</td>\n",
       "      <td>2021-02-18</td>\n",
       "      <td>无为市</td>\n",
       "      <td>5.0</td>\n",
       "      <td>非常好看，说不出来的感动!</td>\n",
       "    </tr>\n",
       "    <tr>\n",
       "      <th>1</th>\n",
       "      <td>lzX878846254</td>\n",
       "      <td>2021-02-18</td>\n",
       "      <td>宁乡</td>\n",
       "      <td>4.0</td>\n",
       "      <td>影片呼声很高，却没想的那么感动到我。而我却是一个特别感性的人。</td>\n",
       "    </tr>\n",
       "    <tr>\n",
       "      <th>2</th>\n",
       "      <td>你的脑袋要发芽.</td>\n",
       "      <td>2021-02-18</td>\n",
       "      <td>锡林郭勒</td>\n",
       "      <td>4.5</td>\n",
       "      <td>很感人 哭了两次</td>\n",
       "    </tr>\n",
       "    <tr>\n",
       "      <th>3</th>\n",
       "      <td>周瑜虹123</td>\n",
       "      <td>2021-02-18</td>\n",
       "      <td>常州</td>\n",
       "      <td>5.0</td>\n",
       "      <td>好看带家属看的</td>\n",
       "    </tr>\n",
       "    <tr>\n",
       "      <th>4</th>\n",
       "      <td>kCe991911524</td>\n",
       "      <td>2021-02-18</td>\n",
       "      <td>苏州</td>\n",
       "      <td>4.5</td>\n",
       "      <td>全程很好 很感人</td>\n",
       "    </tr>\n",
       "  </tbody>\n",
       "</table>\n",
       "</div>"
      ],
      "text/plain": [
       "       username        date  city  score                          comment\n",
       "0         易烊千玺.  2021-02-18   无为市    5.0                    非常好看，说不出来的感动!\n",
       "1  lzX878846254  2021-02-18    宁乡    4.0  影片呼声很高，却没想的那么感动到我。而我却是一个特别感性的人。\n",
       "2      你的脑袋要发芽.  2021-02-18  锡林郭勒    4.5                         很感人 哭了两次\n",
       "3        周瑜虹123  2021-02-18    常州    5.0                          好看带家属看的\n",
       "4  kCe991911524  2021-02-18    苏州    4.5                         全程很好 很感人"
      ]
     },
     "execution_count": 60,
     "metadata": {},
     "output_type": "execute_result"
    }
   ],
   "source": [
    "save_to_dataframe(10,'1299372')\n",
    "data = pd.DataFrame({'username':username,'date':date,'city':city,'score':score,'comment':comment})\n",
    "data.head()"
   ]
  },
  {
   "cell_type": "code",
   "execution_count": 61,
   "metadata": {},
   "outputs": [
    {
     "data": {
      "text/html": [
       "<div>\n",
       "<style scoped>\n",
       "    .dataframe tbody tr th:only-of-type {\n",
       "        vertical-align: middle;\n",
       "    }\n",
       "\n",
       "    .dataframe tbody tr th {\n",
       "        vertical-align: top;\n",
       "    }\n",
       "\n",
       "    .dataframe thead th {\n",
       "        text-align: right;\n",
       "    }\n",
       "</style>\n",
       "<table border=\"1\" class=\"dataframe\">\n",
       "  <thead>\n",
       "    <tr style=\"text-align: right;\">\n",
       "      <th></th>\n",
       "      <th>username</th>\n",
       "      <th>date</th>\n",
       "      <th>city</th>\n",
       "      <th>score</th>\n",
       "      <th>comment</th>\n",
       "    </tr>\n",
       "  </thead>\n",
       "  <tbody>\n",
       "    <tr>\n",
       "      <th>130</th>\n",
       "      <td>来一份鸡手</td>\n",
       "      <td>2021-02-18</td>\n",
       "      <td>延边</td>\n",
       "      <td>5.0</td>\n",
       "      <td>看完很多的感触，明明笑着却有一种想哭的感觉。每一位演员的演技都非常棒，充满笑点和泪点的一部剧...</td>\n",
       "    </tr>\n",
       "    <tr>\n",
       "      <th>131</th>\n",
       "      <td>EtB126320062</td>\n",
       "      <td>2021-02-18</td>\n",
       "      <td>上海</td>\n",
       "      <td>5.0</td>\n",
       "      <td>非常走心的电影 没有刻意的商业化 喜欢</td>\n",
       "    </tr>\n",
       "    <tr>\n",
       "      <th>132</th>\n",
       "      <td>琴琴啦～</td>\n",
       "      <td>2021-02-18</td>\n",
       "      <td>内江</td>\n",
       "      <td>5.0</td>\n",
       "      <td>很好看</td>\n",
       "    </tr>\n",
       "    <tr>\n",
       "      <th>133</th>\n",
       "      <td>鹏堡</td>\n",
       "      <td>2021-02-18</td>\n",
       "      <td>锦州</td>\n",
       "      <td>5.0</td>\n",
       "      <td>非常好看，感人</td>\n",
       "    </tr>\n",
       "    <tr>\n",
       "      <th>134</th>\n",
       "      <td>zhuyuze318</td>\n",
       "      <td>2021-02-18</td>\n",
       "      <td>乌鲁木齐</td>\n",
       "      <td>4.5</td>\n",
       "      <td>好好好，值得看的电影</td>\n",
       "    </tr>\n",
       "  </tbody>\n",
       "</table>\n",
       "</div>"
      ],
      "text/plain": [
       "         username        date  city  score  \\\n",
       "130         来一份鸡手  2021-02-18    延边    5.0   \n",
       "131  EtB126320062  2021-02-18    上海    5.0   \n",
       "132          琴琴啦～  2021-02-18    内江    5.0   \n",
       "133            鹏堡  2021-02-18    锦州    5.0   \n",
       "134    zhuyuze318  2021-02-18  乌鲁木齐    4.5   \n",
       "\n",
       "                                               comment  \n",
       "130  看完很多的感触，明明笑着却有一种想哭的感觉。每一位演员的演技都非常棒，充满笑点和泪点的一部剧...  \n",
       "131                                非常走心的电影 没有刻意的商业化 喜欢  \n",
       "132                                            很好看      \n",
       "133                                            非常好看，感人  \n",
       "134                                         好好好，值得看的电影  "
      ]
     },
     "execution_count": 61,
     "metadata": {},
     "output_type": "execute_result"
    }
   ],
   "source": [
    "data.tail()"
   ]
  },
  {
   "cell_type": "code",
   "execution_count": 62,
   "metadata": {
    "ExecuteTime": {
     "end_time": "2019-02-24T04:24:21.688622Z",
     "start_time": "2019-02-24T04:24:21.681996Z"
    }
   },
   "outputs": [],
   "source": []
  },
  {
   "cell_type": "code",
   "execution_count": null,
   "metadata": {},
   "outputs": [],
   "source": [
    "# #保存数据到文本文档\n",
    "# def save_to_txt(num,movie,file):\n",
    "#     for i in range(num):\n",
    "#         url = 'http://m.maoyan.com/mmdb/comments/movie/'+movie+'.json?_v_=yes&offset=' + str(i)\n",
    "#         getContent(url,file)\n",
    "#         print('正在保存第%d页。'% i)\n",
    "#         time.sleep(5)\n",
    "\n",
    "# def run():\n",
    "#     movie = input('请输入要抓取的电影编号：')\n",
    "#     #创建文件保存数据\n",
    "#     table = input('请输入要插入的文件名：')\n",
    "#     num = input('请输入要爬取的页数：')\n",
    "#     num = int(num)\n",
    "#     path = './' + table+'.txt'\n",
    "#     file = open(path,'w')\n",
    "#     save_to_txt(num,movie,file)\n",
    "#     file.close()\n",
    "#     print('数据写入完成')"
   ]
  }
 ],
 "metadata": {
  "hide_input": false,
  "kernelspec": {
   "display_name": "Python 3",
   "language": "python",
   "name": "python3"
  },
  "language_info": {
   "codemirror_mode": {
    "name": "ipython",
    "version": 3
   },
   "file_extension": ".py",
   "mimetype": "text/x-python",
   "name": "python",
   "nbconvert_exporter": "python",
   "pygments_lexer": "ipython3",
   "version": "3.7.4"
  },
  "toc": {
   "base_numbering": 1,
   "nav_menu": {},
   "number_sections": true,
   "sideBar": true,
   "skip_h1_title": false,
   "title_cell": "Table of Contents",
   "title_sidebar": "Contents",
   "toc_cell": false,
   "toc_position": {},
   "toc_section_display": true,
   "toc_window_display": false
  }
 },
 "nbformat": 4,
 "nbformat_minor": 2
}
